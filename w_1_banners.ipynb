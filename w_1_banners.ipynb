{
 "cells": [
  {
   "cell_type": "markdown",
   "metadata": {},
   "source": [
    "### Поиск структуры в данных, неделя 1\n",
    "#### Размещение баннеров\n",
    "\n",
    "Представим, что международное круизное агентство Carnival Cruise Line решило себя разрекламировать с помощью баннеров и обратилось для этого к вам. Чтобы протестировать, велика ли от таких баннеров польза, их будет размещено всего 20 штук по всему миру. Вам надо выбрать 20 таких локаций для размещения, чтобы польза была большой и агентство продолжило с вами сотрудничать.\n",
    "\n",
    "\n",
    "Агентство крупное, и у него есть несколько офисов по всему миру. Вблизи этих офисов оно и хочет разместить баннеры — легче договариваться и проверять результат. Также эти места должны быть популярны среди туристов."
   ]
  },
  {
   "cell_type": "code",
   "execution_count": 1,
   "metadata": {
    "collapsed": true
   },
   "outputs": [],
   "source": [
    "import pandas as pd\n",
    "import numpy as np"
   ]
  },
  {
   "cell_type": "markdown",
   "metadata": {},
   "source": [
    "Для поиска оптимальных мест воспользуемся базой данных крупнейшей социальной сети, основанной на локациях — Foursquare."
   ]
  },
  {
   "cell_type": "code",
   "execution_count": 2,
   "metadata": {},
   "outputs": [
    {
     "name": "stdout",
     "output_type": "stream",
     "text": [
      "(1021967, 6)\n"
     ]
    },
    {
     "name": "stderr",
     "output_type": "stream",
     "text": [
      "C:\\Users\\admin\\Anaconda2\\lib\\site-packages\\IPython\\core\\interactiveshell.py:2714: DtypeWarning: Columns (0) have mixed types. Specify dtype option on import or set low_memory=False.\n",
      "  interactivity=interactivity, compiler=compiler, result=result)\n"
     ]
    },
    {
     "data": {
      "text/html": [
       "<div>\n",
       "<style>\n",
       "    .dataframe thead tr:only-child th {\n",
       "        text-align: right;\n",
       "    }\n",
       "\n",
       "    .dataframe thead th {\n",
       "        text-align: left;\n",
       "    }\n",
       "\n",
       "    .dataframe tbody tr th {\n",
       "        vertical-align: top;\n",
       "    }\n",
       "</style>\n",
       "<table border=\"1\" class=\"dataframe\">\n",
       "  <thead>\n",
       "    <tr style=\"text-align: right;\">\n",
       "      <th></th>\n",
       "      <th>id</th>\n",
       "      <th>user_id</th>\n",
       "      <th>venue_id</th>\n",
       "      <th>latitude</th>\n",
       "      <th>longitude</th>\n",
       "      <th>created_at</th>\n",
       "    </tr>\n",
       "  </thead>\n",
       "  <tbody>\n",
       "    <tr>\n",
       "      <th>0</th>\n",
       "      <td>984301</td>\n",
       "      <td>2041916.0</td>\n",
       "      <td>5222.0</td>\n",
       "      <td></td>\n",
       "      <td></td>\n",
       "      <td>2012-04-21 17:39:01</td>\n",
       "    </tr>\n",
       "    <tr>\n",
       "      <th>1</th>\n",
       "      <td>984222</td>\n",
       "      <td>15824.0</td>\n",
       "      <td>5222.0</td>\n",
       "      <td>38.8951118</td>\n",
       "      <td>-77.0363658</td>\n",
       "      <td>2012-04-21 17:43:47</td>\n",
       "    </tr>\n",
       "    <tr>\n",
       "      <th>2</th>\n",
       "      <td>984315</td>\n",
       "      <td>1764391.0</td>\n",
       "      <td>5222.0</td>\n",
       "      <td></td>\n",
       "      <td></td>\n",
       "      <td>2012-04-21 17:37:18</td>\n",
       "    </tr>\n",
       "    <tr>\n",
       "      <th>3</th>\n",
       "      <td>984234</td>\n",
       "      <td>44652.0</td>\n",
       "      <td>5222.0</td>\n",
       "      <td>33.800745</td>\n",
       "      <td>-84.41052</td>\n",
       "      <td>2012-04-21 17:43:43</td>\n",
       "    </tr>\n",
       "    <tr>\n",
       "      <th>4</th>\n",
       "      <td>984249</td>\n",
       "      <td>2146840.0</td>\n",
       "      <td>5222.0</td>\n",
       "      <td></td>\n",
       "      <td></td>\n",
       "      <td>2012-04-21 17:42:58</td>\n",
       "    </tr>\n",
       "  </tbody>\n",
       "</table>\n",
       "</div>"
      ],
      "text/plain": [
       "     id       user_id    venue_id        latitude             longitude       \\\n",
       "0    984301  2041916.0      5222.0                                             \n",
       "1    984222    15824.0      5222.0          38.8951118          -77.0363658    \n",
       "2    984315  1764391.0      5222.0                                             \n",
       "3    984234    44652.0      5222.0           33.800745            -84.41052    \n",
       "4    984249  2146840.0      5222.0                                             \n",
       "\n",
       "       created_at        \n",
       "0   2012-04-21 17:39:01  \n",
       "1   2012-04-21 17:43:47  \n",
       "2   2012-04-21 17:37:18  \n",
       "3   2012-04-21 17:43:43  \n",
       "4   2012-04-21 17:42:58  "
      ]
     },
     "execution_count": 2,
     "metadata": {},
     "output_type": "execute_result"
    }
   ],
   "source": [
    "df = pd.read_csv('checkins.csv')\n",
    "print(df.shape)\n",
    "df.head()"
   ]
  },
  {
   "cell_type": "code",
   "execution_count": 3,
   "metadata": {},
   "outputs": [
    {
     "data": {
      "text/plain": [
       "['id', 'user_id', 'venue_id', 'latitude', 'longitude', 'created_at']"
      ]
     },
     "execution_count": 3,
     "metadata": {},
     "output_type": "execute_result"
    }
   ],
   "source": [
    "# удаляем лишние пробелы в наименованиях столбцов\n",
    "df.columns = df.columns.str.lstrip()\n",
    "df.columns = df.columns.str.rstrip()\n",
    "list(df)"
   ]
  },
  {
   "cell_type": "code",
   "execution_count": 4,
   "metadata": {},
   "outputs": [
    {
     "data": {
      "text/plain": [
       "id             object\n",
       "user_id       float64\n",
       "venue_id      float64\n",
       "latitude       object\n",
       "longitude      object\n",
       "created_at     object\n",
       "dtype: object"
      ]
     },
     "execution_count": 4,
     "metadata": {},
     "output_type": "execute_result"
    }
   ],
   "source": [
    "df.dtypes"
   ]
  },
  {
   "cell_type": "code",
   "execution_count": 5,
   "metadata": {},
   "outputs": [
    {
     "data": {
      "text/plain": [
       "(396634, 6)"
      ]
     },
     "execution_count": 5,
     "metadata": {},
     "output_type": "execute_result"
    }
   ],
   "source": [
    "# меняем тип данных в столбцах 'latitude', 'longitude' - широта, долгота\n",
    "df[['latitude', 'longitude']] = df[['latitude', 'longitude']].apply(pd.to_numeric, errors='coerce')\n",
    "df.dropna(subset=['latitude', 'longitude'], inplace = True)\n",
    "df.shape"
   ]
  },
  {
   "cell_type": "code",
   "execution_count": 6,
   "metadata": {},
   "outputs": [
    {
     "data": {
      "text/plain": [
       "(100000, 2)"
      ]
     },
     "execution_count": 6,
     "metadata": {},
     "output_type": "execute_result"
    }
   ],
   "source": [
    "# будем работать с первыми 100 тыс. строк\n",
    "# для оптимизации качества кластеризации и времени, затраченного на ее построение, \n",
    "X = df[['latitude', 'longitude']][:100000]\n",
    "X.shape"
   ]
  },
  {
   "cell_type": "markdown",
   "metadata": {},
   "source": [
    "Необходимо кластеризовать данные координаты, чтобы выявить центры скоплений туристов. Поскольку баннеры имеют сравнительно небольшую площадь действия, нам нужен алгоритм, позволяющий ограничить размер кластера и не зависящий от количества кластеров.\n",
    "\n",
    "Для решения воспользуемся алгоритмом MeanShift, указав bandwidth=0.1, что в переводе из градусов в метры колеблется примерно от 5 до 10 км в средних широтах."
   ]
  },
  {
   "cell_type": "code",
   "execution_count": 7,
   "metadata": {},
   "outputs": [],
   "source": [
    "from sklearn.cluster import MeanShift\n",
    "\n",
    "clustering = MeanShift(bandwidth=0.1).fit(X)"
   ]
  },
  {
   "cell_type": "code",
   "execution_count": 8,
   "metadata": {},
   "outputs": [],
   "source": [
    "pred_X = pd.DataFrame(clustering.predict(X), columns=['cluster_label'])"
   ]
  },
  {
   "cell_type": "code",
   "execution_count": 10,
   "metadata": {},
   "outputs": [
    {
     "data": {
      "text/html": [
       "<div>\n",
       "<style>\n",
       "    .dataframe thead tr:only-child th {\n",
       "        text-align: right;\n",
       "    }\n",
       "\n",
       "    .dataframe thead th {\n",
       "        text-align: left;\n",
       "    }\n",
       "\n",
       "    .dataframe tbody tr th {\n",
       "        vertical-align: top;\n",
       "    }\n",
       "</style>\n",
       "<table border=\"1\" class=\"dataframe\">\n",
       "  <thead>\n",
       "    <tr style=\"text-align: right;\">\n",
       "      <th></th>\n",
       "      <th>cluster_label</th>\n",
       "      <th>count</th>\n",
       "    </tr>\n",
       "  </thead>\n",
       "  <tbody>\n",
       "    <tr>\n",
       "      <th>0</th>\n",
       "      <td>0</td>\n",
       "      <td>12506</td>\n",
       "    </tr>\n",
       "    <tr>\n",
       "      <th>1</th>\n",
       "      <td>1</td>\n",
       "      <td>4692</td>\n",
       "    </tr>\n",
       "    <tr>\n",
       "      <th>2</th>\n",
       "      <td>2</td>\n",
       "      <td>3994</td>\n",
       "    </tr>\n",
       "    <tr>\n",
       "      <th>3</th>\n",
       "      <td>3</td>\n",
       "      <td>3363</td>\n",
       "    </tr>\n",
       "    <tr>\n",
       "      <th>4</th>\n",
       "      <td>4</td>\n",
       "      <td>3526</td>\n",
       "    </tr>\n",
       "  </tbody>\n",
       "</table>\n",
       "</div>"
      ],
      "text/plain": [
       "   cluster_label  count\n",
       "0              0  12506\n",
       "1              1   4692\n",
       "2              2   3994\n",
       "3              3   3363\n",
       "4              4   3526"
      ]
     },
     "execution_count": 10,
     "metadata": {},
     "output_type": "execute_result"
    }
   ],
   "source": [
    "# вычислим кол-во точек в каждом кластере\n",
    "df_label = pred_X.groupby(['cluster_label']).size().reset_index()\n",
    "df_label = df_label.rename(columns = {0:'count'})\n",
    "df_label.head()"
   ]
  },
  {
   "cell_type": "code",
   "execution_count": 11,
   "metadata": {},
   "outputs": [
    {
     "name": "stdout",
     "output_type": "stream",
     "text": [
      "(3230, 4)\n"
     ]
    },
    {
     "data": {
      "text/html": [
       "<div>\n",
       "<style>\n",
       "    .dataframe thead tr:only-child th {\n",
       "        text-align: right;\n",
       "    }\n",
       "\n",
       "    .dataframe thead th {\n",
       "        text-align: left;\n",
       "    }\n",
       "\n",
       "    .dataframe tbody tr th {\n",
       "        vertical-align: top;\n",
       "    }\n",
       "</style>\n",
       "<table border=\"1\" class=\"dataframe\">\n",
       "  <thead>\n",
       "    <tr style=\"text-align: right;\">\n",
       "      <th></th>\n",
       "      <th>cluster_label</th>\n",
       "      <th>count</th>\n",
       "      <th>latitude</th>\n",
       "      <th>longitude</th>\n",
       "    </tr>\n",
       "  </thead>\n",
       "  <tbody>\n",
       "    <tr>\n",
       "      <th>0</th>\n",
       "      <td>0</td>\n",
       "      <td>12506</td>\n",
       "      <td>40.717716</td>\n",
       "      <td>-73.991835</td>\n",
       "    </tr>\n",
       "    <tr>\n",
       "      <th>1</th>\n",
       "      <td>1</td>\n",
       "      <td>4692</td>\n",
       "      <td>33.449438</td>\n",
       "      <td>-112.002140</td>\n",
       "    </tr>\n",
       "    <tr>\n",
       "      <th>2</th>\n",
       "      <td>2</td>\n",
       "      <td>3994</td>\n",
       "      <td>33.446380</td>\n",
       "      <td>-111.901888</td>\n",
       "    </tr>\n",
       "    <tr>\n",
       "      <th>3</th>\n",
       "      <td>3</td>\n",
       "      <td>3363</td>\n",
       "      <td>41.878244</td>\n",
       "      <td>-87.629843</td>\n",
       "    </tr>\n",
       "    <tr>\n",
       "      <th>4</th>\n",
       "      <td>4</td>\n",
       "      <td>3526</td>\n",
       "      <td>37.688682</td>\n",
       "      <td>-122.409330</td>\n",
       "    </tr>\n",
       "  </tbody>\n",
       "</table>\n",
       "</div>"
      ],
      "text/plain": [
       "   cluster_label  count   latitude   longitude\n",
       "0              0  12506  40.717716  -73.991835\n",
       "1              1   4692  33.449438 -112.002140\n",
       "2              2   3994  33.446380 -111.901888\n",
       "3              3   3363  41.878244  -87.629843\n",
       "4              4   3526  37.688682 -122.409330"
      ]
     },
     "execution_count": 11,
     "metadata": {},
     "output_type": "execute_result"
    }
   ],
   "source": [
    "# объединим информацию о центре кластера и кол-ве точек в нем\n",
    "cluster_centers = pd.DataFrame(clustering.cluster_centers_, columns=['latitude', 'longitude'])\n",
    "df_centers = pd.concat([df_label, cluster_centers], axis = 1)\n",
    "print(df_centers.shape)\n",
    "df_centers.head()"
   ]
  },
  {
   "cell_type": "markdown",
   "metadata": {},
   "source": [
    "Некоторые из получившихся кластеров содержат слишком мало точек — такие кластеры не интересны рекламодателям. Поэтому надо определить, какие из кластеров содержат, скажем, больше 15 элементов. Центры этих кластеров и являются оптимальными для размещения."
   ]
  },
  {
   "cell_type": "code",
   "execution_count": 12,
   "metadata": {},
   "outputs": [
    {
     "data": {
      "text/plain": [
       "(593, 2)"
      ]
     },
     "execution_count": 12,
     "metadata": {},
     "output_type": "execute_result"
    }
   ],
   "source": [
    "df_centers = df_centers[df_centers['count']>15]\n",
    "df_centers = df_centers[['latitude', 'longitude']]\n",
    "df_centers.shape"
   ]
  },
  {
   "cell_type": "code",
   "execution_count": 33,
   "metadata": {},
   "outputs": [],
   "source": [
    "df_centers.reset_index(drop = True, inplace = True)"
   ]
  },
  {
   "cell_type": "code",
   "execution_count": 13,
   "metadata": {},
   "outputs": [
    {
     "data": {
      "text/html": [
       "<div>\n",
       "<style>\n",
       "    .dataframe thead tr:only-child th {\n",
       "        text-align: right;\n",
       "    }\n",
       "\n",
       "    .dataframe thead th {\n",
       "        text-align: left;\n",
       "    }\n",
       "\n",
       "    .dataframe tbody tr th {\n",
       "        vertical-align: top;\n",
       "    }\n",
       "</style>\n",
       "<table border=\"1\" class=\"dataframe\">\n",
       "  <thead>\n",
       "    <tr style=\"text-align: right;\">\n",
       "      <th></th>\n",
       "      <th>latitude</th>\n",
       "      <th>longitude</th>\n",
       "    </tr>\n",
       "  </thead>\n",
       "  <tbody>\n",
       "    <tr>\n",
       "      <th>0</th>\n",
       "      <td>33.751277</td>\n",
       "      <td>-118.188740</td>\n",
       "    </tr>\n",
       "    <tr>\n",
       "      <th>1</th>\n",
       "      <td>25.867736</td>\n",
       "      <td>-80.324116</td>\n",
       "    </tr>\n",
       "    <tr>\n",
       "      <th>2</th>\n",
       "      <td>51.503016</td>\n",
       "      <td>-0.075479</td>\n",
       "    </tr>\n",
       "    <tr>\n",
       "      <th>3</th>\n",
       "      <td>52.378894</td>\n",
       "      <td>4.885084</td>\n",
       "    </tr>\n",
       "    <tr>\n",
       "      <th>4</th>\n",
       "      <td>39.366487</td>\n",
       "      <td>117.036146</td>\n",
       "    </tr>\n",
       "    <tr>\n",
       "      <th>5</th>\n",
       "      <td>-33.868457</td>\n",
       "      <td>151.205134</td>\n",
       "    </tr>\n",
       "  </tbody>\n",
       "</table>\n",
       "</div>"
      ],
      "text/plain": [
       "    latitude   longitude\n",
       "0  33.751277 -118.188740\n",
       "1  25.867736  -80.324116\n",
       "2  51.503016   -0.075479\n",
       "3  52.378894    4.885084\n",
       "4  39.366487  117.036146\n",
       "5 -33.868457  151.205134"
      ]
     },
     "execution_count": 13,
     "metadata": {},
     "output_type": "execute_result"
    }
   ],
   "source": [
    "# создаем df с координатами офисов компании\n",
    "off_adr = [[33.751277, -118.188740], \n",
    "          [25.867736, -80.324116],\n",
    "          [51.503016, -0.075479],\n",
    "          [52.378894, 4.885084],\n",
    "          [39.366487, 117.036146],\n",
    "          [-33.868457, 151.205134]] \n",
    "\n",
    "off_adr = pd.DataFrame(off_adr, columns = ['latitude', 'longitude']) \n",
    "off_adr"
   ]
  },
  {
   "cell_type": "code",
   "execution_count": 35,
   "metadata": {
    "scrolled": true
   },
   "outputs": [],
   "source": [
    "# рассчитываем расстояние от центра кластеров до каждого офиса компании\n",
    "from scipy.spatial import distance\n",
    "\n",
    "each_to_each_dist = []\n",
    "for i in range(df_centers.shape[0]):\n",
    "    for j in range(off_adr.shape[0]):\n",
    "        each_to_each_dist.append([df_centers['latitude'][i], df_centers['longitude'][i], off_adr['latitude'][j], off_adr['longitude'][j], distance.euclidean(df_centers[i:i+1], off_adr[j:j+1])])\n"
   ]
  },
  {
   "cell_type": "code",
   "execution_count": 37,
   "metadata": {},
   "outputs": [
    {
     "data": {
      "text/html": [
       "<div>\n",
       "<style>\n",
       "    .dataframe thead tr:only-child th {\n",
       "        text-align: right;\n",
       "    }\n",
       "\n",
       "    .dataframe thead th {\n",
       "        text-align: left;\n",
       "    }\n",
       "\n",
       "    .dataframe tbody tr th {\n",
       "        vertical-align: top;\n",
       "    }\n",
       "</style>\n",
       "<table border=\"1\" class=\"dataframe\">\n",
       "  <thead>\n",
       "    <tr style=\"text-align: right;\">\n",
       "      <th></th>\n",
       "      <th>latitude</th>\n",
       "      <th>longitude</th>\n",
       "      <th>off_latitude</th>\n",
       "      <th>off_longitude</th>\n",
       "      <th>distance</th>\n",
       "    </tr>\n",
       "  </thead>\n",
       "  <tbody>\n",
       "    <tr>\n",
       "      <th>2465</th>\n",
       "      <td>-33.860630</td>\n",
       "      <td>151.204776</td>\n",
       "      <td>-33.868457</td>\n",
       "      <td>151.205134</td>\n",
       "      <td>0.007835</td>\n",
       "    </tr>\n",
       "    <tr>\n",
       "      <th>2235</th>\n",
       "      <td>52.372964</td>\n",
       "      <td>4.892317</td>\n",
       "      <td>52.378894</td>\n",
       "      <td>4.885084</td>\n",
       "      <td>0.009353</td>\n",
       "    </tr>\n",
       "    <tr>\n",
       "      <th>2413</th>\n",
       "      <td>25.845672</td>\n",
       "      <td>-80.318891</td>\n",
       "      <td>25.867736</td>\n",
       "      <td>-80.324116</td>\n",
       "      <td>0.022674</td>\n",
       "    </tr>\n",
       "    <tr>\n",
       "      <th>350</th>\n",
       "      <td>51.502991</td>\n",
       "      <td>-0.125537</td>\n",
       "      <td>51.503016</td>\n",
       "      <td>-0.075479</td>\n",
       "      <td>0.050058</td>\n",
       "    </tr>\n",
       "    <tr>\n",
       "      <th>306</th>\n",
       "      <td>33.809878</td>\n",
       "      <td>-118.148924</td>\n",
       "      <td>33.751277</td>\n",
       "      <td>-118.188740</td>\n",
       "      <td>0.070848</td>\n",
       "    </tr>\n",
       "    <tr>\n",
       "      <th>175</th>\n",
       "      <td>25.785812</td>\n",
       "      <td>-80.217938</td>\n",
       "      <td>25.867736</td>\n",
       "      <td>-80.324116</td>\n",
       "      <td>0.134109</td>\n",
       "    </tr>\n",
       "    <tr>\n",
       "      <th>997</th>\n",
       "      <td>25.705350</td>\n",
       "      <td>-80.283429</td>\n",
       "      <td>25.867736</td>\n",
       "      <td>-80.324116</td>\n",
       "      <td>0.167406</td>\n",
       "    </tr>\n",
       "    <tr>\n",
       "      <th>553</th>\n",
       "      <td>26.010098</td>\n",
       "      <td>-80.199991</td>\n",
       "      <td>25.867736</td>\n",
       "      <td>-80.324116</td>\n",
       "      <td>0.188876</td>\n",
       "    </tr>\n",
       "    <tr>\n",
       "      <th>522</th>\n",
       "      <td>33.888325</td>\n",
       "      <td>-118.048928</td>\n",
       "      <td>33.751277</td>\n",
       "      <td>-118.188740</td>\n",
       "      <td>0.195779</td>\n",
       "    </tr>\n",
       "    <tr>\n",
       "      <th>252</th>\n",
       "      <td>33.872986</td>\n",
       "      <td>-118.362091</td>\n",
       "      <td>33.751277</td>\n",
       "      <td>-118.188740</td>\n",
       "      <td>0.211811</td>\n",
       "    </tr>\n",
       "    <tr>\n",
       "      <th>1710</th>\n",
       "      <td>33.972575</td>\n",
       "      <td>-118.168371</td>\n",
       "      <td>33.751277</td>\n",
       "      <td>-118.188740</td>\n",
       "      <td>0.222233</td>\n",
       "    </tr>\n",
       "    <tr>\n",
       "      <th>1891</th>\n",
       "      <td>26.138844</td>\n",
       "      <td>-80.334347</td>\n",
       "      <td>25.867736</td>\n",
       "      <td>-80.324116</td>\n",
       "      <td>0.271301</td>\n",
       "    </tr>\n",
       "    <tr>\n",
       "      <th>714</th>\n",
       "      <td>33.983936</td>\n",
       "      <td>-118.007405</td>\n",
       "      <td>33.751277</td>\n",
       "      <td>-118.188740</td>\n",
       "      <td>0.294979</td>\n",
       "    </tr>\n",
       "    <tr>\n",
       "      <th>331</th>\n",
       "      <td>26.120863</td>\n",
       "      <td>-80.158907</td>\n",
       "      <td>25.867736</td>\n",
       "      <td>-80.324116</td>\n",
       "      <td>0.302270</td>\n",
       "    </tr>\n",
       "    <tr>\n",
       "      <th>162</th>\n",
       "      <td>33.817306</td>\n",
       "      <td>-117.891249</td>\n",
       "      <td>33.751277</td>\n",
       "      <td>-118.188740</td>\n",
       "      <td>0.304731</td>\n",
       "    </tr>\n",
       "    <tr>\n",
       "      <th>66</th>\n",
       "      <td>34.060398</td>\n",
       "      <td>-118.248709</td>\n",
       "      <td>33.751277</td>\n",
       "      <td>-118.188740</td>\n",
       "      <td>0.314884</td>\n",
       "    </tr>\n",
       "    <tr>\n",
       "      <th>192</th>\n",
       "      <td>33.674303</td>\n",
       "      <td>-117.858789</td>\n",
       "      <td>33.751277</td>\n",
       "      <td>-118.188740</td>\n",
       "      <td>0.338810</td>\n",
       "    </tr>\n",
       "    <tr>\n",
       "      <th>949</th>\n",
       "      <td>26.200585</td>\n",
       "      <td>-80.250716</td>\n",
       "      <td>25.867736</td>\n",
       "      <td>-80.324116</td>\n",
       "      <td>0.340846</td>\n",
       "    </tr>\n",
       "    <tr>\n",
       "      <th>102</th>\n",
       "      <td>34.035487</td>\n",
       "      <td>-118.438998</td>\n",
       "      <td>33.751277</td>\n",
       "      <td>-118.188740</td>\n",
       "      <td>0.378688</td>\n",
       "    </tr>\n",
       "    <tr>\n",
       "      <th>282</th>\n",
       "      <td>34.131460</td>\n",
       "      <td>-118.118012</td>\n",
       "      <td>33.751277</td>\n",
       "      <td>-118.188740</td>\n",
       "      <td>0.386706</td>\n",
       "    </tr>\n",
       "  </tbody>\n",
       "</table>\n",
       "</div>"
      ],
      "text/plain": [
       "       latitude   longitude  off_latitude  off_longitude  distance\n",
       "2465 -33.860630  151.204776    -33.868457     151.205134  0.007835\n",
       "2235  52.372964    4.892317     52.378894       4.885084  0.009353\n",
       "2413  25.845672  -80.318891     25.867736     -80.324116  0.022674\n",
       "350   51.502991   -0.125537     51.503016      -0.075479  0.050058\n",
       "306   33.809878 -118.148924     33.751277    -118.188740  0.070848\n",
       "175   25.785812  -80.217938     25.867736     -80.324116  0.134109\n",
       "997   25.705350  -80.283429     25.867736     -80.324116  0.167406\n",
       "553   26.010098  -80.199991     25.867736     -80.324116  0.188876\n",
       "522   33.888325 -118.048928     33.751277    -118.188740  0.195779\n",
       "252   33.872986 -118.362091     33.751277    -118.188740  0.211811\n",
       "1710  33.972575 -118.168371     33.751277    -118.188740  0.222233\n",
       "1891  26.138844  -80.334347     25.867736     -80.324116  0.271301\n",
       "714   33.983936 -118.007405     33.751277    -118.188740  0.294979\n",
       "331   26.120863  -80.158907     25.867736     -80.324116  0.302270\n",
       "162   33.817306 -117.891249     33.751277    -118.188740  0.304731\n",
       "66    34.060398 -118.248709     33.751277    -118.188740  0.314884\n",
       "192   33.674303 -117.858789     33.751277    -118.188740  0.338810\n",
       "949   26.200585  -80.250716     25.867736     -80.324116  0.340846\n",
       "102   34.035487 -118.438998     33.751277    -118.188740  0.378688\n",
       "282   34.131460 -118.118012     33.751277    -118.188740  0.386706"
      ]
     },
     "execution_count": 37,
     "metadata": {},
     "output_type": "execute_result"
    }
   ],
   "source": [
    "# определяем координаты для размещения 20 баннеров\n",
    "fin = pd.DataFrame(each_to_each_dist, columns = ['latitude', 'longitude', 'off_latitude', 'off_longitude', 'distance'])\n",
    "fin.sort_values(by='distance', ascending = True).head(20)"
   ]
  },
  {
   "cell_type": "code",
   "execution_count": null,
   "metadata": {
    "collapsed": true
   },
   "outputs": [],
   "source": []
  },
  {
   "cell_type": "code",
   "execution_count": null,
   "metadata": {
    "collapsed": true
   },
   "outputs": [],
   "source": []
  }
 ],
 "metadata": {
  "kernelspec": {
   "display_name": "Python 2",
   "language": "python",
   "name": "python2"
  },
  "language_info": {
   "codemirror_mode": {
    "name": "ipython",
    "version": 2
   },
   "file_extension": ".py",
   "mimetype": "text/x-python",
   "name": "python",
   "nbconvert_exporter": "python",
   "pygments_lexer": "ipython2",
   "version": "2.7.13"
  }
 },
 "nbformat": 4,
 "nbformat_minor": 2
}
